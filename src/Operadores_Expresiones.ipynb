{
 "cells": [
  {
   "cell_type": "markdown",
   "metadata": {},
   "source": [
    "# Operadores y Expresiones"
   ]
  },
  {
   "cell_type": "markdown",
   "metadata": {},
   "source": [
    "Los operadores y las expresiones son los elementos base para la construcción de las sentencias de programación."
   ]
  },
  {
   "cell_type": "markdown",
   "metadata": {},
   "source": [
    "## Operadores"
   ]
  },
  {
   "cell_type": "markdown",
   "metadata": {},
   "source": [
    "Los operadores se dividen en:\n",
    "- Operadores aritméticos.\n",
    "- Operadores lógicos.\n",
    "- Operadores de comparación."
   ]
  },
  {
   "cell_type": "markdown",
   "metadata": {},
   "source": [
    "### Operadores aritméticos"
   ]
  },
  {
   "cell_type": "markdown",
   "metadata": {},
   "source": [
    "Los operadores aritméticos básicos en Python son: suma (+), resta (-), multiplicación (\\*), división (/), exponenciación (\\*\\*), módulo (%) y división entera (//). A continuación se presenta un ejemplo de cada operador:"
   ]
  },
  {
   "cell_type": "code",
   "execution_count": 1,
   "metadata": {},
   "outputs": [
    {
     "name": "stdout",
     "output_type": "stream",
     "text": [
      "Suma: 13\n",
      "Resta: -3\n",
      "Multiplicación: 40\n",
      "División: 2.5\n",
      "Exponenciación: 390625\n",
      "Módulo: 4\n",
      "División entera: 2\n"
     ]
    }
   ],
   "source": [
    "print('Suma:',5 + 8)\n",
    "print('Resta:',5 - 8)\n",
    "print('Multiplicación:',5 * 8)\n",
    "print('División:',20 / 8)\n",
    "print('Exponenciación:',5 ** 8)\n",
    "print('Módulo:',20 % 8)\n",
    "print('División entera:',20 // 8)"
   ]
  },
  {
   "cell_type": "markdown",
   "metadata": {},
   "source": [
    "### Operadores lógicos"
   ]
  },
  {
   "cell_type": "markdown",
   "metadata": {},
   "source": [
    "Los operadores lógicos básicos en Python son: conjunción (and), disyunción (or), negación (not), pertenece (in). A continuación se presenta un ejemplo del uso de cada operador:"
   ]
  },
  {
   "cell_type": "code",
   "execution_count": 2,
   "metadata": {},
   "outputs": [
    {
     "name": "stdout",
     "output_type": "stream",
     "text": [
      "Conjunción: False\n",
      "Disyunción: True\n",
      "Negación: False\n",
      "Pertenece: True\n"
     ]
    }
   ],
   "source": [
    "print('Conjunción:',True and False) \n",
    "print('Disyunción:',True or False) \n",
    "print('Negación:',not True) \n",
    "print('Pertenece:','a' in 'Hola') "
   ]
  },
  {
   "cell_type": "markdown",
   "metadata": {},
   "source": [
    "### Operadores de comparación"
   ]
  },
  {
   "cell_type": "markdown",
   "metadata": {},
   "source": [
    "Los operadores de comparación son: igualdad (==), diferente (!=), mayor que (>), menor que (<), mayor o igual (>=), menor o igual (<=). Cabe indicar que el operador de diferencia es igual a la operación lógica or-exclusiva cuando sus operandos son valores booleanos. A continuación de presenta un ejemplo por cada operador:"
   ]
  },
  {
   "cell_type": "code",
   "execution_count": 3,
   "metadata": {},
   "outputs": [
    {
     "name": "stdout",
     "output_type": "stream",
     "text": [
      "Igualdad: True\n",
      "Mayor que: False\n",
      "Menor que: False\n",
      "Mayor o igual que: True\n",
      "Menor o igual que: True\n",
      "Diferente: False\n"
     ]
    }
   ],
   "source": [
    "print('Igualdad:',3 == 3) \n",
    "print('Mayor que:',3 > 3) \n",
    "print('Menor que:',3 < 3) \n",
    "print('Mayor o igual que:',3 >= 3) \n",
    "print('Menor o igual que:',3 <= 3) \n",
    "print('Diferente:',3 != 3)"
   ]
  },
  {
   "cell_type": "markdown",
   "metadata": {},
   "source": [
    "## Expresiones"
   ]
  },
  {
   "cell_type": "markdown",
   "metadata": {},
   "source": [
    "Las expresiones son sentencias de código que se contruyen a partir de los operadores aplicados a un conjunto (mas de dos) operandos. Dependiendo del resultado que estas expresiones retornan se pueden dividir en expresiones algebraicas y expresiones lógicas o booleanas."
   ]
  },
  {
   "cell_type": "markdown",
   "metadata": {},
   "source": [
    "### Expresiones algebraicas"
   ]
  },
  {
   "cell_type": "markdown",
   "metadata": {},
   "source": [
    "El resultado de este tipo de expresiones es siempre un número. El orden de prioridad de los operadores son los mismos que se usan en las matemáticas, es decir de mayor a menor: exponenciación, multiplicación, divisón suma, resta. Ejm:"
   ]
  },
  {
   "cell_type": "code",
   "execution_count": 4,
   "metadata": {},
   "outputs": [
    {
     "data": {
      "text/plain": [
       "-99.8"
      ]
     },
     "execution_count": 4,
     "metadata": {},
     "output_type": "execute_result"
    }
   ],
   "source": [
    "1.2 + 4.5 * 6 - 2**7"
   ]
  },
  {
   "cell_type": "markdown",
   "metadata": {},
   "source": [
    "Si se desea cambiar el order de prioridad se debe usar el operador de agrupación (). Sin importar el grado de agrupación el operador siempre se mantiene el mismo. Ejm:"
   ]
  },
  {
   "cell_type": "code",
   "execution_count": 5,
   "metadata": {},
   "outputs": [
    {
     "data": {
      "text/plain": [
       "6103515626.2"
      ]
     },
     "execution_count": 5,
     "metadata": {},
     "output_type": "execute_result"
    }
   ],
   "source": [
    "1.2 + ((4.5 * 6) - 2)**7"
   ]
  },
  {
   "cell_type": "markdown",
   "metadata": {},
   "source": [
    "### Expresiones lógicas o booleanas"
   ]
  },
  {
   "cell_type": "markdown",
   "metadata": {},
   "source": [
    "El resultado de estas expresiones es un valor booleano, es decir True o False. Ejm:"
   ]
  },
  {
   "cell_type": "code",
   "execution_count": 6,
   "metadata": {},
   "outputs": [
    {
     "data": {
      "text/plain": [
       "True"
      ]
     },
     "execution_count": 6,
     "metadata": {},
     "output_type": "execute_result"
    }
   ],
   "source": [
    "True and (False or True) or ('a' in 'Hola')"
   ]
  },
  {
   "cell_type": "markdown",
   "metadata": {},
   "source": [
    "## Asignación de resultados y combinación de expresiones"
   ]
  },
  {
   "cell_type": "markdown",
   "metadata": {},
   "source": [
    "En cualquiera de los tipos de expresiones, los resultados ya sean numéricos o booleanos pueden ser almacenados en variables. Ejm:"
   ]
  },
  {
   "cell_type": "code",
   "execution_count": 7,
   "metadata": {},
   "outputs": [
    {
     "name": "stdout",
     "output_type": "stream",
     "text": [
      "a: 6103515626.2   tipo: <class 'float'>\n",
      "b: True   tipo: <class 'bool'>\n"
     ]
    }
   ],
   "source": [
    "a = 1.2 + ((4.5 * 6) - 2)**7\n",
    "b = True and (False or True) or ('a' in 'Hola')\n",
    "\n",
    "print('a:',a,'  tipo:',type(a))\n",
    "print('b:',b,'  tipo:',type(b))"
   ]
  },
  {
   "cell_type": "markdown",
   "metadata": {},
   "source": [
    "Además, las expresiones algebraicas pueden ser combinadas usando los operadores de comparación donde el resultado final será un valor booleano:"
   ]
  },
  {
   "cell_type": "code",
   "execution_count": 8,
   "metadata": {},
   "outputs": [
    {
     "name": "stdout",
     "output_type": "stream",
     "text": [
      "c: True   tipo: <class 'bool'>\n"
     ]
    }
   ],
   "source": [
    "c = (1.2 + ((4.5 * 6) - 2)**7) >= (1.2 + ((4.5 * 6) - 2)**7 - 1)\n",
    "print('c:',c,'  tipo:',type(c))"
   ]
  }
 ],
 "metadata": {
  "kernelspec": {
   "display_name": "Python 3",
   "language": "python",
   "name": "python3"
  },
  "language_info": {
   "codemirror_mode": {
    "name": "ipython",
    "version": 3
   },
   "file_extension": ".py",
   "mimetype": "text/x-python",
   "name": "python",
   "nbconvert_exporter": "python",
   "pygments_lexer": "ipython3",
   "version": "3.5.2"
  }
 },
 "nbformat": 4,
 "nbformat_minor": 2
}
